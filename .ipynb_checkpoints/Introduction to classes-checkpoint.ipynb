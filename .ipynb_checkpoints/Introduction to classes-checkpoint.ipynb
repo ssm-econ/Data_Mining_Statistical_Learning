{
 "cells": [
  {
   "cell_type": "markdown",
   "id": "5d05fa61",
   "metadata": {},
   "source": [
    "Classes help us define data structures with some shared properties and methods."
   ]
  },
  {
   "cell_type": "code",
   "execution_count": 43,
   "id": "93539ec2",
   "metadata": {},
   "outputs": [],
   "source": [
    "class MyClass:\n",
    "    \"\"\"A simple example class\"\"\"\n",
    "    def __init__(self,number):\n",
    "        self.i=number\n",
    "\n",
    "    def f(self):\n",
    "        return 'hello world'\n",
    "    \n",
    "    def g(self,another_member):\n",
    "        return MyClass(self.i+another_member.i)\n",
    "        "
   ]
  },
  {
   "cell_type": "code",
   "execution_count": 44,
   "id": "9013c0b7",
   "metadata": {},
   "outputs": [],
   "source": [
    "thisguy = MyClass(1.0)"
   ]
  },
  {
   "cell_type": "code",
   "execution_count": 45,
   "id": "3d39b79a",
   "metadata": {},
   "outputs": [
    {
     "data": {
      "text/plain": [
       "1.0"
      ]
     },
     "execution_count": 45,
     "metadata": {},
     "output_type": "execute_result"
    }
   ],
   "source": [
    "thisguy.i"
   ]
  },
  {
   "cell_type": "code",
   "execution_count": 46,
   "id": "e0b7355d",
   "metadata": {},
   "outputs": [
    {
     "data": {
      "text/plain": [
       "'hello world'"
      ]
     },
     "execution_count": 46,
     "metadata": {},
     "output_type": "execute_result"
    }
   ],
   "source": [
    "thisguy.f()"
   ]
  },
  {
   "cell_type": "code",
   "execution_count": 51,
   "id": "9f519ce9",
   "metadata": {},
   "outputs": [],
   "source": [
    "thatguy=MyClass(17.0)"
   ]
  },
  {
   "cell_type": "code",
   "execution_count": 52,
   "id": "22c385a5",
   "metadata": {},
   "outputs": [],
   "source": [
    "totallynewguy=thisguy.g(thatguy)"
   ]
  },
  {
   "cell_type": "code",
   "execution_count": 53,
   "id": "009122e1",
   "metadata": {},
   "outputs": [
    {
     "data": {
      "text/plain": [
       "18.0"
      ]
     },
     "execution_count": 53,
     "metadata": {},
     "output_type": "execute_result"
    }
   ],
   "source": [
    "totallynewguy.i"
   ]
  },
  {
   "cell_type": "code",
   "execution_count": 29,
   "id": "393f317a",
   "metadata": {},
   "outputs": [
    {
     "data": {
      "text/plain": [
       "float"
      ]
     },
     "execution_count": 29,
     "metadata": {},
     "output_type": "execute_result"
    }
   ],
   "source": [
    "type(1.0)"
   ]
  },
  {
   "cell_type": "code",
   "execution_count": 54,
   "id": "f7f21b3a",
   "metadata": {},
   "outputs": [
    {
     "data": {
      "text/plain": [
       "__main__.MyClass"
      ]
     },
     "execution_count": 54,
     "metadata": {},
     "output_type": "execute_result"
    }
   ],
   "source": [
    "type(thisguy)"
   ]
  },
  {
   "cell_type": "code",
   "execution_count": 22,
   "id": "e1f48b13-2cc9-4b64-97a1-fb0dfafacb23",
   "metadata": {},
   "outputs": [
    {
     "name": "stdout",
     "output_type": "stream",
     "text": [
      "Addition: 3/4 + 2/5 = 23/20\n",
      "Subtraction: 3/4 - 2/5 = 7/20\n",
      "Multiplication: 3/4 * 2/5 = 3/10\n",
      "Division: 3/4 / 2/5 = 3/10\n"
     ]
    }
   ],
   "source": [
    "from math import gcd\n",
    "\n",
    "class Fraction:\n",
    "    def __init__(self, numerator, denominator):\n",
    "        if type(numerator)==float or type(denominator)==float:\n",
    "            raise ValueError(\"Numerator and denominator must be integers\")\n",
    "        if denominator == 0:\n",
    "            raise ValueError(\"Denominator cannot be zero\")\n",
    "        common = gcd(numerator, denominator)\n",
    "        self.numerator = numerator // common\n",
    "        self.denominator = denominator // common\n",
    "        if self.denominator < 0:  # Ensuring denominator is always positive\n",
    "            self.numerator = -self.numerator\n",
    "            self.denominator = -self.denominator\n",
    "\n",
    "    def show(self):\n",
    "        return f\"{self.numerator}/{self.denominator}\"\n",
    "\n",
    "    def add(self, other):\n",
    "        num = self.numerator * other.denominator + other.numerator * self.denominator\n",
    "        den = self.denominator * other.denominator\n",
    "        return Fraction(num, den)\n",
    "\n",
    "    def sub(self, other):\n",
    "        num = self.numerator * other.denominator - other.numerator * self.denominator\n",
    "        den = self.denominator * other.denominator\n",
    "        return Fraction(num, den)\n",
    "\n",
    "    def mul(self, other):\n",
    "        num = self.numerator * other.numerator\n",
    "        den = self.denominator * other.denominator\n",
    "        return Fraction(num, den)\n",
    "\n",
    "    def div(self, other):\n",
    "        if other.numerator == 0:\n",
    "            raise ZeroDivisionError(\"Cannot divide by zero fraction\")\n",
    "        num = self.numerator * other.denominator\n",
    "        den = self.denominator * other.numerator\n",
    "        return Fraction(num, den)\n",
    "\n",
    "# Example usage\n",
    "f1 = Fraction(3, 4)\n",
    "f2 = Fraction(2, 5)\n",
    "\n",
    "print(f\"Addition: {f1.show()} + {f2.show()} = {(f1.add(f2)).show()}\")\n",
    "print(f\"Subtraction: {f1.show()} - {f2.show()} = {(f1.sub(f2)).show()}\")\n",
    "print(f\"Multiplication: {f1.show()} * {f2.show()} = {(f1.mul(f2)).show()}\")\n",
    "print(f\"Division: {f1.show()} / {f2.show()} = {(f1.mul(f2)).show()}\")\n"
   ]
  },
  {
   "cell_type": "code",
   "execution_count": 23,
   "id": "7de570f9",
   "metadata": {},
   "outputs": [
    {
     "data": {
      "text/plain": [
       "'3/4'"
      ]
     },
     "execution_count": 23,
     "metadata": {},
     "output_type": "execute_result"
    }
   ],
   "source": [
    "f1.show()"
   ]
  },
  {
   "cell_type": "code",
   "execution_count": 26,
   "id": "e3f9e14c",
   "metadata": {},
   "outputs": [],
   "source": [
    "f1=Fraction(1,10)"
   ]
  },
  {
   "cell_type": "markdown",
   "id": "e83d1b56",
   "metadata": {},
   "source": [
    "## Inheritance"
   ]
  },
  {
   "cell_type": "code",
   "execution_count": 55,
   "id": "46eedbe7",
   "metadata": {},
   "outputs": [
    {
     "name": "stdout",
     "output_type": "stream",
     "text": [
      "Mike Olsen\n",
      "1234\n",
      "Mike Olsen says hi to George Maxwell\n"
     ]
    }
   ],
   "source": [
    "class Person:\n",
    "    def __init__(self, fname, lname):\n",
    "        self.firstname = fname\n",
    "        self.lastname = lname\n",
    "\n",
    "    def printname(self):\n",
    "        print(self.firstname, self.lastname)\n",
    "\n",
    "class Student(Person):\n",
    "    def __init__(self, fname, lname, eid):\n",
    "        Person.__init__(self, fname, lname)\n",
    "        self.EID=eid;\n",
    "\n",
    "    def showEID(self):\n",
    "        print(self.EID)\n",
    "\n",
    "    def talk(self,other_person):\n",
    "        print(f\"{self.firstname} {self.lastname} says hi to {other_person.firstname} {other_person.lastname}\")\n",
    "\n",
    "x = Student(\"Mike\", \"Olsen\",1234)\n",
    "y = Person(\"George\",\"Maxwell\")\n",
    "x.printname()\n",
    "x.showEID()\n",
    "x.talk(y)"
   ]
  },
  {
   "cell_type": "code",
   "execution_count": 56,
   "id": "afb6b071",
   "metadata": {},
   "outputs": [],
   "source": [
    "x.EID=123"
   ]
  },
  {
   "cell_type": "code",
   "execution_count": 58,
   "id": "e9bcf40c",
   "metadata": {},
   "outputs": [
    {
     "name": "stdout",
     "output_type": "stream",
     "text": [
      "123\n"
     ]
    }
   ],
   "source": [
    "x.showEID()"
   ]
  },
  {
   "cell_type": "code",
   "execution_count": 59,
   "id": "1576a974",
   "metadata": {},
   "outputs": [
    {
     "name": "stdout",
     "output_type": "stream",
     "text": [
      "Drive!\n",
      "Sail!\n",
      "Fly!\n"
     ]
    }
   ],
   "source": [
    "class Car:\n",
    "    def __init__(self, brand, model):\n",
    "        self.brand = brand\n",
    "        self.model = model\n",
    "\n",
    "    def move(self):\n",
    "        print(\"Drive!\")\n",
    "\n",
    "class Boat:\n",
    "    def __init__(self, brand, model):\n",
    "        self.brand = brand\n",
    "        self.model = model\n",
    "\n",
    "    def move(self):\n",
    "        print(\"Sail!\")\n",
    "\n",
    "class Plane:\n",
    "    def __init__(self, brand, model):\n",
    "        self.brand = brand\n",
    "        self.model = model\n",
    "\n",
    "    def move(self):\n",
    "        print(\"Fly!\")\n",
    "\n",
    "car1 = Car(\"Ford\", \"Mustang\")       #Create a Car object\n",
    "boat1 = Boat(\"Ibiza\", \"Touring 20\") #Create a Boat object\n",
    "plane1 = Plane(\"Boeing\", \"747\")     #Create a Plane object\n",
    "\n",
    "car1.move()\n",
    "boat1.move()\n",
    "plane1.move()"
   ]
  },
  {
   "cell_type": "code",
   "execution_count": null,
   "id": "03d4e2bb",
   "metadata": {},
   "outputs": [],
   "source": []
  }
 ],
 "metadata": {
  "kernelspec": {
   "display_name": "Python 3 (ipykernel)",
   "language": "python",
   "name": "python3"
  },
  "language_info": {
   "codemirror_mode": {
    "name": "ipython",
    "version": 3
   },
   "file_extension": ".py",
   "mimetype": "text/x-python",
   "name": "python",
   "nbconvert_exporter": "python",
   "pygments_lexer": "ipython3",
   "version": "3.11.10"
  }
 },
 "nbformat": 4,
 "nbformat_minor": 5
}
